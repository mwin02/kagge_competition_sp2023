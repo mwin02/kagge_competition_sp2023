{
 "cells": [
  {
   "cell_type": "code",
   "execution_count": null,
   "id": "56d337e3",
   "metadata": {},
   "outputs": [],
   "source": [
    "import pandas as pd\n",
    "import torch, numpy as np\n",
    "import matplotlib.pyplot as plt\n",
    "import matplotlib.colors as mcolors\n",
    "from datetime import datetime\n",
    "import os \n",
    "from shapely.geometry import LineString\n",
    "import folium\n",
    "from folium.plugins import HeatMap\n",
    "from glob import glob\n",
    "import numpy as np\n",
    "from folium import plugins\n",
    "import ast\n",
    "print(f\"PyTorch Version: {torch.__version__}\")"
   ]
  },
  {
   "cell_type": "code",
   "execution_count": null,
   "id": "0c9beb9d",
   "metadata": {},
   "outputs": [],
   "source": [
    "df_tr = pd.read_csv(\"C:\\\\niha\\\\csc151b\\\\kaggle\\\\data\\\\train.csv\")\n",
    "missingIndex = df_tr[df_tr[\"MISSING_DATA\"]].index\n",
    "df_tr.drop(missingIndex , inplace=True)\n",
    "print(df_tr.shape)\n",
    "df_tr.head()"
   ]
  },
  {
   "cell_type": "code",
   "execution_count": null,
   "id": "00e80f99",
   "metadata": {},
   "outputs": [],
   "source": [
    "#df_tr['POLYLINE'][0]"
   ]
  },
  {
   "cell_type": "code",
   "execution_count": null,
   "id": "d577c5d4",
   "metadata": {},
   "outputs": [],
   "source": [
    "# Create a list of latitude and longitude coordinates\n",
    "coordinates = df_tr['POLYLINE'][0]\n",
    " #   [latitude1, longitude1],\n",
    "  #  [latitude2, longitude2],\n",
    "  #  [latitude3, longitude3],\n",
    "    # Add more coordinates as needed\n",
    "#]\n",
    "fc = ast.literal_eval(coordinates)\n",
    "type(fc)\n",
    "totrow=df_tr.shape[0]\n",
    "ser=df_tr['POLYLINE'].dropna()\n",
    "oplst = []\n",
    "for i in range(len(df_tr)):\n",
    "    #save ith index row into local variable\n",
    "    #if i in [105621, 171397, 299137, 457486]:\n",
    "    #    continue\n",
    "    try:\n",
    "        var = df_tr['POLYLINE'][i]\n",
    "    except KeyError as e:\n",
    "        continue\n",
    "    \n",
    "    #convert using literal \n",
    "    lit = ast.literal_eval(coordinates)\n",
    "    #if type is list then de refer and add to op list\n",
    "    if  type(lit) == list:\n",
    "        for i in lit[::3]:\n",
    "            oplst.append(i)\n",
    "        \n",
    "#len(oplst)"
   ]
  },
  {
   "cell_type": "code",
   "execution_count": null,
   "id": "f416dfb6",
   "metadata": {},
   "outputs": [],
   "source": [
    "#df_tr['POLYLINE'][105621]\n",
    "len(oplst)"
   ]
  },
  {
   "cell_type": "code",
   "execution_count": null,
   "id": "112a9581",
   "metadata": {
    "scrolled": false
   },
   "outputs": [],
   "source": [
    "import folium\n",
    "from folium import plugins\n",
    "from folium.plugins import HeatMap\n",
    "import numpy as np\n",
    "def plothm(data, olon=-8.62975, olat=41.14515,  zstrt=15):\n",
    "    tmpdat = [[i[1], i[0], 0.1] for i in data]\n",
    "    m = folium.Map([olat, olon], tiles='stamentoner', zoom_start=zstrt)\n",
    "    HeatMap(tmpdat).add_to(folium.FeatureGroup(name='Heat Map').add_to(m))\n",
    "    folium.LayerControl().add_to(m)\n",
    "    return m\n",
    "op = plothm(oplst)\n"
   ]
  },
  {
   "cell_type": "code",
   "execution_count": null,
   "id": "f11c793f",
   "metadata": {},
   "outputs": [],
   "source": [
    "op"
   ]
  },
  {
   "cell_type": "code",
   "execution_count": null,
   "id": "2e963d28",
   "metadata": {},
   "outputs": [],
   "source": [
    "oplst[1000000:1000005]"
   ]
  },
  {
   "cell_type": "code",
   "execution_count": null,
   "id": "de6b8a83",
   "metadata": {},
   "outputs": [],
   "source": [
    "max(oplst)[1]"
   ]
  },
  {
   "cell_type": "code",
   "execution_count": null,
   "id": "d653c1cc",
   "metadata": {},
   "outputs": [],
   "source": [
    "gc = df_tr.groupby(\"CALL_TYPE\").count()\n",
    "gc = gc[\"TRIP_ID\"]\n",
    "plt.bar(gc.index, gc)\n",
    "plt.title(\"Distribution of Trip Count by Call Type\")\n",
    "plt.xlabel(\"Call Type\")\n",
    "plt.ylabel(\"Count of Trips\")"
   ]
  },
  {
   "cell_type": "code",
   "execution_count": null,
   "id": "bece8cbf",
   "metadata": {},
   "outputs": [],
   "source": [
    "import datetime\n",
    "serts = df_tr['TIMESTAMP'].apply(lambda x:(datetime.datetime.fromtimestamp(x)).date())"
   ]
  },
  {
   "cell_type": "code",
   "execution_count": null,
   "id": "f76a3e18",
   "metadata": {},
   "outputs": [],
   "source": [
    "serts.hist(bins=50)\n",
    "plt.title(\"Distribution of Trip Count by Date\")\n",
    "plt.xlabel(\"Timestamp\")\n",
    "plt.ylabel(\"Count of Trips\")"
   ]
  },
  {
   "cell_type": "code",
   "execution_count": null,
   "id": "d4501227",
   "metadata": {},
   "outputs": [],
   "source": [
    "#there is sparsity in the data as shown in the graph. Most of the taxi trips amount to around 25K trips. \n",
    "#The outliers are shown in the graph\n",
    "df_tr[\"TAXI_ID\"].hist(bins=80)\n",
    "plt.title(\"Distribution of Trip Count by Taxi ID\")\n",
    "plt.xlabel(\"Taxi ID\")\n",
    "plt.ylabel(\"Count of Trips\")"
   ]
  },
  {
   "cell_type": "code",
   "execution_count": null,
   "id": "0e108e3f",
   "metadata": {},
   "outputs": [],
   "source": []
  }
 ],
 "metadata": {
  "kernelspec": {
   "display_name": "Python 3 (ipykernel)",
   "language": "python",
   "name": "python3"
  },
  "language_info": {
   "codemirror_mode": {
    "name": "ipython",
    "version": 3
   },
   "file_extension": ".py",
   "mimetype": "text/x-python",
   "name": "python",
   "nbconvert_exporter": "python",
   "pygments_lexer": "ipython3",
   "version": "3.10.11"
  }
 },
 "nbformat": 4,
 "nbformat_minor": 5
}
