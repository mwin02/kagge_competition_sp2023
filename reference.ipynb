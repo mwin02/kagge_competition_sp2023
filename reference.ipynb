{
 "cells": [
  {
   "cell_type": "markdown",
   "id": "179fc397",
   "metadata": {},
   "source": [
    "# Kaggle Taxi Cab Analysis"
   ]
  },
  {
   "cell_type": "markdown",
   "id": "d417d968",
   "metadata": {},
   "source": [
    "## Loading Libraries and Datasets"
   ]
  },
  {
   "cell_type": "markdown",
   "id": "ad72a74e",
   "metadata": {},
   "source": [
    "Importing pandas, pytorch and numpy"
   ]
  },
  {
   "cell_type": "code",
   "execution_count": 1,
   "id": "3f272db5",
   "metadata": {},
   "outputs": [
    {
     "name": "stdout",
     "output_type": "stream",
     "text": [
      "PyTorch Version: 1.9.0+cu111\n"
     ]
    }
   ],
   "source": [
    "import pandas as pd\n",
    "import torch, numpy as np\n",
    "import matplotlib.pyplot as plt\n",
    "import matplotlib.colors as mcolors\n",
    "from datetime import datetime\n",
    "print(f\"PyTorch Version: {torch.__version__}\")"
   ]
  },
  {
   "cell_type": "markdown",
   "id": "3b35c473",
   "metadata": {},
   "source": [
    "Read in the train.csv file into a pandas dataframe."
   ]
  },
  {
   "cell_type": "code",
   "execution_count": 34,
   "id": "7a620216",
   "metadata": {},
   "outputs": [],
   "source": [
    "df_tr = pd.read_csv(\"train.csv\")"
   ]
  },
  {
   "cell_type": "code",
   "execution_count": 39,
   "id": "bdb50788",
   "metadata": {},
   "outputs": [
    {
     "name": "stdout",
     "output_type": "stream",
     "text": [
      "(1710660, 9)\n"
     ]
    },
    {
     "data": {
      "text/html": [
       "<div>\n",
       "<style scoped>\n",
       "    .dataframe tbody tr th:only-of-type {\n",
       "        vertical-align: middle;\n",
       "    }\n",
       "\n",
       "    .dataframe tbody tr th {\n",
       "        vertical-align: top;\n",
       "    }\n",
       "\n",
       "    .dataframe thead th {\n",
       "        text-align: right;\n",
       "    }\n",
       "</style>\n",
       "<table border=\"1\" class=\"dataframe\">\n",
       "  <thead>\n",
       "    <tr style=\"text-align: right;\">\n",
       "      <th></th>\n",
       "      <th>TRIP_ID</th>\n",
       "      <th>CALL_TYPE</th>\n",
       "      <th>ORIGIN_CALL</th>\n",
       "      <th>ORIGIN_STAND</th>\n",
       "      <th>TAXI_ID</th>\n",
       "      <th>TIMESTAMP</th>\n",
       "      <th>DAY_TYPE</th>\n",
       "      <th>MISSING_DATA</th>\n",
       "      <th>POLYLINE</th>\n",
       "    </tr>\n",
       "  </thead>\n",
       "  <tbody>\n",
       "    <tr>\n",
       "      <th>0</th>\n",
       "      <td>1372636858620000589</td>\n",
       "      <td>C</td>\n",
       "      <td>NaN</td>\n",
       "      <td>NaN</td>\n",
       "      <td>20000589</td>\n",
       "      <td>1372636858</td>\n",
       "      <td>A</td>\n",
       "      <td>False</td>\n",
       "      <td>[[-8.618643,41.141412],[-8.618499,41.141376],[...</td>\n",
       "    </tr>\n",
       "    <tr>\n",
       "      <th>1</th>\n",
       "      <td>1372637303620000596</td>\n",
       "      <td>B</td>\n",
       "      <td>NaN</td>\n",
       "      <td>7.0</td>\n",
       "      <td>20000596</td>\n",
       "      <td>1372637303</td>\n",
       "      <td>A</td>\n",
       "      <td>False</td>\n",
       "      <td>[[-8.639847,41.159826],[-8.640351,41.159871],[...</td>\n",
       "    </tr>\n",
       "    <tr>\n",
       "      <th>2</th>\n",
       "      <td>1372636951620000320</td>\n",
       "      <td>C</td>\n",
       "      <td>NaN</td>\n",
       "      <td>NaN</td>\n",
       "      <td>20000320</td>\n",
       "      <td>1372636951</td>\n",
       "      <td>A</td>\n",
       "      <td>False</td>\n",
       "      <td>[[-8.612964,41.140359],[-8.613378,41.14035],[-...</td>\n",
       "    </tr>\n",
       "    <tr>\n",
       "      <th>3</th>\n",
       "      <td>1372636854620000520</td>\n",
       "      <td>C</td>\n",
       "      <td>NaN</td>\n",
       "      <td>NaN</td>\n",
       "      <td>20000520</td>\n",
       "      <td>1372636854</td>\n",
       "      <td>A</td>\n",
       "      <td>False</td>\n",
       "      <td>[[-8.574678,41.151951],[-8.574705,41.151942],[...</td>\n",
       "    </tr>\n",
       "    <tr>\n",
       "      <th>4</th>\n",
       "      <td>1372637091620000337</td>\n",
       "      <td>C</td>\n",
       "      <td>NaN</td>\n",
       "      <td>NaN</td>\n",
       "      <td>20000337</td>\n",
       "      <td>1372637091</td>\n",
       "      <td>A</td>\n",
       "      <td>False</td>\n",
       "      <td>[[-8.645994,41.18049],[-8.645949,41.180517],[-...</td>\n",
       "    </tr>\n",
       "  </tbody>\n",
       "</table>\n",
       "</div>"
      ],
      "text/plain": [
       "               TRIP_ID CALL_TYPE  ORIGIN_CALL  ORIGIN_STAND   TAXI_ID  \\\n",
       "0  1372636858620000589         C          NaN           NaN  20000589   \n",
       "1  1372637303620000596         B          NaN           7.0  20000596   \n",
       "2  1372636951620000320         C          NaN           NaN  20000320   \n",
       "3  1372636854620000520         C          NaN           NaN  20000520   \n",
       "4  1372637091620000337         C          NaN           NaN  20000337   \n",
       "\n",
       "    TIMESTAMP DAY_TYPE  MISSING_DATA  \\\n",
       "0  1372636858        A         False   \n",
       "1  1372637303        A         False   \n",
       "2  1372636951        A         False   \n",
       "3  1372636854        A         False   \n",
       "4  1372637091        A         False   \n",
       "\n",
       "                                            POLYLINE  \n",
       "0  [[-8.618643,41.141412],[-8.618499,41.141376],[...  \n",
       "1  [[-8.639847,41.159826],[-8.640351,41.159871],[...  \n",
       "2  [[-8.612964,41.140359],[-8.613378,41.14035],[-...  \n",
       "3  [[-8.574678,41.151951],[-8.574705,41.151942],[...  \n",
       "4  [[-8.645994,41.18049],[-8.645949,41.180517],[-...  "
      ]
     },
     "execution_count": 39,
     "metadata": {},
     "output_type": "execute_result"
    }
   ],
   "source": [
    "print(df_tr.shape)\n",
    "df_tr.head()"
   ]
  },
  {
   "cell_type": "markdown",
   "id": "2198b4b1",
   "metadata": {},
   "source": [
    "Removing the 10 trips with MISSING_DATA true meaning they have no POLYLINE and thus no travel time."
   ]
  },
  {
   "cell_type": "code",
   "execution_count": 36,
   "id": "5148f3c0",
   "metadata": {},
   "outputs": [],
   "source": [
    "missingIndex = df[df[\"MISSING_DATA\"]].index\n",
    "df_tr.drop(missingIndex , inplace=True)"
   ]
  },
  {
   "cell_type": "code",
   "execution_count": 40,
   "id": "fda3f644",
   "metadata": {
    "scrolled": true
   },
   "outputs": [
    {
     "name": "stdout",
     "output_type": "stream",
     "text": [
      "(1710660, 9)\n"
     ]
    },
    {
     "data": {
      "text/html": [
       "<div>\n",
       "<style scoped>\n",
       "    .dataframe tbody tr th:only-of-type {\n",
       "        vertical-align: middle;\n",
       "    }\n",
       "\n",
       "    .dataframe tbody tr th {\n",
       "        vertical-align: top;\n",
       "    }\n",
       "\n",
       "    .dataframe thead th {\n",
       "        text-align: right;\n",
       "    }\n",
       "</style>\n",
       "<table border=\"1\" class=\"dataframe\">\n",
       "  <thead>\n",
       "    <tr style=\"text-align: right;\">\n",
       "      <th></th>\n",
       "      <th>TRIP_ID</th>\n",
       "      <th>CALL_TYPE</th>\n",
       "      <th>ORIGIN_CALL</th>\n",
       "      <th>ORIGIN_STAND</th>\n",
       "      <th>TAXI_ID</th>\n",
       "      <th>TIMESTAMP</th>\n",
       "      <th>DAY_TYPE</th>\n",
       "      <th>MISSING_DATA</th>\n",
       "      <th>POLYLINE</th>\n",
       "    </tr>\n",
       "  </thead>\n",
       "  <tbody>\n",
       "    <tr>\n",
       "      <th>0</th>\n",
       "      <td>1372636858620000589</td>\n",
       "      <td>C</td>\n",
       "      <td>NaN</td>\n",
       "      <td>NaN</td>\n",
       "      <td>20000589</td>\n",
       "      <td>1372636858</td>\n",
       "      <td>A</td>\n",
       "      <td>False</td>\n",
       "      <td>[[-8.618643,41.141412],[-8.618499,41.141376],[...</td>\n",
       "    </tr>\n",
       "    <tr>\n",
       "      <th>1</th>\n",
       "      <td>1372637303620000596</td>\n",
       "      <td>B</td>\n",
       "      <td>NaN</td>\n",
       "      <td>7.0</td>\n",
       "      <td>20000596</td>\n",
       "      <td>1372637303</td>\n",
       "      <td>A</td>\n",
       "      <td>False</td>\n",
       "      <td>[[-8.639847,41.159826],[-8.640351,41.159871],[...</td>\n",
       "    </tr>\n",
       "    <tr>\n",
       "      <th>2</th>\n",
       "      <td>1372636951620000320</td>\n",
       "      <td>C</td>\n",
       "      <td>NaN</td>\n",
       "      <td>NaN</td>\n",
       "      <td>20000320</td>\n",
       "      <td>1372636951</td>\n",
       "      <td>A</td>\n",
       "      <td>False</td>\n",
       "      <td>[[-8.612964,41.140359],[-8.613378,41.14035],[-...</td>\n",
       "    </tr>\n",
       "    <tr>\n",
       "      <th>3</th>\n",
       "      <td>1372636854620000520</td>\n",
       "      <td>C</td>\n",
       "      <td>NaN</td>\n",
       "      <td>NaN</td>\n",
       "      <td>20000520</td>\n",
       "      <td>1372636854</td>\n",
       "      <td>A</td>\n",
       "      <td>False</td>\n",
       "      <td>[[-8.574678,41.151951],[-8.574705,41.151942],[...</td>\n",
       "    </tr>\n",
       "    <tr>\n",
       "      <th>4</th>\n",
       "      <td>1372637091620000337</td>\n",
       "      <td>C</td>\n",
       "      <td>NaN</td>\n",
       "      <td>NaN</td>\n",
       "      <td>20000337</td>\n",
       "      <td>1372637091</td>\n",
       "      <td>A</td>\n",
       "      <td>False</td>\n",
       "      <td>[[-8.645994,41.18049],[-8.645949,41.180517],[-...</td>\n",
       "    </tr>\n",
       "  </tbody>\n",
       "</table>\n",
       "</div>"
      ],
      "text/plain": [
       "               TRIP_ID CALL_TYPE  ORIGIN_CALL  ORIGIN_STAND   TAXI_ID  \\\n",
       "0  1372636858620000589         C          NaN           NaN  20000589   \n",
       "1  1372637303620000596         B          NaN           7.0  20000596   \n",
       "2  1372636951620000320         C          NaN           NaN  20000320   \n",
       "3  1372636854620000520         C          NaN           NaN  20000520   \n",
       "4  1372637091620000337         C          NaN           NaN  20000337   \n",
       "\n",
       "    TIMESTAMP DAY_TYPE  MISSING_DATA  \\\n",
       "0  1372636858        A         False   \n",
       "1  1372637303        A         False   \n",
       "2  1372636951        A         False   \n",
       "3  1372636854        A         False   \n",
       "4  1372637091        A         False   \n",
       "\n",
       "                                            POLYLINE  \n",
       "0  [[-8.618643,41.141412],[-8.618499,41.141376],[...  \n",
       "1  [[-8.639847,41.159826],[-8.640351,41.159871],[...  \n",
       "2  [[-8.612964,41.140359],[-8.613378,41.14035],[-...  \n",
       "3  [[-8.574678,41.151951],[-8.574705,41.151942],[...  \n",
       "4  [[-8.645994,41.18049],[-8.645949,41.180517],[-...  "
      ]
     },
     "execution_count": 40,
     "metadata": {},
     "output_type": "execute_result"
    }
   ],
   "source": [
    "print(df_tr.shape)\n",
    "df_tr.head()"
   ]
  },
  {
   "cell_type": "markdown",
   "id": "bd3bb44f",
   "metadata": {},
   "source": [
    "# Get Computed Travel Time"
   ]
  },
  {
   "cell_type": "markdown",
   "id": "6b1d096d",
   "metadata": {},
   "source": [
    "Add a \"LEN\" column to the dataframe with a trip's travel time calculated by getting the number of elements in the POLYLINE and multiplying by 15 seconds. A single element in the POLYLINE represents a start longtitude/latitude and an end longtitude/latitude and represents 15 seconds of travel."
   ]
  },
  {
   "cell_type": "code",
   "execution_count": 41,
   "id": "9c218d40",
   "metadata": {},
   "outputs": [],
   "source": [
    "# Over every single \n",
    "def polyline_to_trip_duration(polyline):\n",
    "  return max(polyline.count(\"[\") - 2, 0) * 15\n",
    "\n",
    "# This code creates a new column, \"LEN\", in our dataframe. The value is\n",
    "# the (polyline_length - 1) * 15, where polyline_length = count(\"[\") - 1\n",
    "df_tr[\"LEN\"] = df_tr[\"POLYLINE\"].apply(polyline_to_trip_duration)"
   ]
  },
  {
   "cell_type": "markdown",
   "id": "b8e951bd",
   "metadata": {},
   "source": [
    "Translates the TIMESTAMP which is in epoch time into YR, MON, DAY, HR, WK columns."
   ]
  },
  {
   "cell_type": "code",
   "execution_count": 137,
   "id": "5d54188e",
   "metadata": {},
   "outputs": [],
   "source": [
    "def parse_time(x):\n",
    "  # We are using python's builtin datetime library\n",
    "  # https://docs.python.org/3/library/datetime.html#datetime.date.fromtimestamp\n",
    "\n",
    "  # Each x is essentially a 1 row, 1 column pandas Series\n",
    "  dt = datetime.fromtimestamp(x[\"TIMESTAMP\"])\n",
    "  return dt.year, dt.month, dt.day, dt.hour, dt.weekday()\n",
    "\n",
    "# Because we are assigning multiple values at a time, we need to \"expand\" our computed (year, month, day, hour, weekday) tuples on \n",
    "# the column axis, or axis 1\n",
    "# https://pandas.pydata.org/docs/reference/api/pandas.DataFrame.apply.html\n",
    "df_tr[[\"YR\", \"MON\", \"DAY\", \"HR\", \"WK\"]] = df_tr[[\"TIMESTAMP\"]].apply(parse_time, axis=1, result_type=\"expand\")\n"
   ]
  },
  {
   "cell_type": "code",
   "execution_count": 138,
   "id": "b45827f8",
   "metadata": {},
   "outputs": [
    {
     "data": {
      "text/html": [
       "<div>\n",
       "<style scoped>\n",
       "    .dataframe tbody tr th:only-of-type {\n",
       "        vertical-align: middle;\n",
       "    }\n",
       "\n",
       "    .dataframe tbody tr th {\n",
       "        vertical-align: top;\n",
       "    }\n",
       "\n",
       "    .dataframe thead th {\n",
       "        text-align: right;\n",
       "    }\n",
       "</style>\n",
       "<table border=\"1\" class=\"dataframe\">\n",
       "  <thead>\n",
       "    <tr style=\"text-align: right;\">\n",
       "      <th></th>\n",
       "      <th>TRIP_ID</th>\n",
       "      <th>CALL_TYPE</th>\n",
       "      <th>ORIGIN_CALL</th>\n",
       "      <th>ORIGIN_STAND</th>\n",
       "      <th>TAXI_ID</th>\n",
       "      <th>TIMESTAMP</th>\n",
       "      <th>DAY_TYPE</th>\n",
       "      <th>MISSING_DATA</th>\n",
       "      <th>POLYLINE</th>\n",
       "      <th>LEN</th>\n",
       "      <th>HR</th>\n",
       "      <th>YR</th>\n",
       "      <th>MON</th>\n",
       "      <th>DAY</th>\n",
       "      <th>WK</th>\n",
       "    </tr>\n",
       "  </thead>\n",
       "  <tbody>\n",
       "    <tr>\n",
       "      <th>0</th>\n",
       "      <td>1372636858620000589</td>\n",
       "      <td>C</td>\n",
       "      <td>NaN</td>\n",
       "      <td>NaN</td>\n",
       "      <td>20000589</td>\n",
       "      <td>1372636858</td>\n",
       "      <td>A</td>\n",
       "      <td>False</td>\n",
       "      <td>[[-8.618643,41.141412],[-8.618499,41.141376],[...</td>\n",
       "      <td>330</td>\n",
       "      <td>0</td>\n",
       "      <td>2013</td>\n",
       "      <td>7</td>\n",
       "      <td>1</td>\n",
       "      <td>0</td>\n",
       "    </tr>\n",
       "    <tr>\n",
       "      <th>1</th>\n",
       "      <td>1372637303620000596</td>\n",
       "      <td>B</td>\n",
       "      <td>NaN</td>\n",
       "      <td>7.0</td>\n",
       "      <td>20000596</td>\n",
       "      <td>1372637303</td>\n",
       "      <td>A</td>\n",
       "      <td>False</td>\n",
       "      <td>[[-8.639847,41.159826],[-8.640351,41.159871],[...</td>\n",
       "      <td>270</td>\n",
       "      <td>0</td>\n",
       "      <td>2013</td>\n",
       "      <td>7</td>\n",
       "      <td>1</td>\n",
       "      <td>0</td>\n",
       "    </tr>\n",
       "    <tr>\n",
       "      <th>2</th>\n",
       "      <td>1372636951620000320</td>\n",
       "      <td>C</td>\n",
       "      <td>NaN</td>\n",
       "      <td>NaN</td>\n",
       "      <td>20000320</td>\n",
       "      <td>1372636951</td>\n",
       "      <td>A</td>\n",
       "      <td>False</td>\n",
       "      <td>[[-8.612964,41.140359],[-8.613378,41.14035],[-...</td>\n",
       "      <td>960</td>\n",
       "      <td>0</td>\n",
       "      <td>2013</td>\n",
       "      <td>7</td>\n",
       "      <td>1</td>\n",
       "      <td>0</td>\n",
       "    </tr>\n",
       "    <tr>\n",
       "      <th>3</th>\n",
       "      <td>1372636854620000520</td>\n",
       "      <td>C</td>\n",
       "      <td>NaN</td>\n",
       "      <td>NaN</td>\n",
       "      <td>20000520</td>\n",
       "      <td>1372636854</td>\n",
       "      <td>A</td>\n",
       "      <td>False</td>\n",
       "      <td>[[-8.574678,41.151951],[-8.574705,41.151942],[...</td>\n",
       "      <td>630</td>\n",
       "      <td>0</td>\n",
       "      <td>2013</td>\n",
       "      <td>7</td>\n",
       "      <td>1</td>\n",
       "      <td>0</td>\n",
       "    </tr>\n",
       "    <tr>\n",
       "      <th>4</th>\n",
       "      <td>1372637091620000337</td>\n",
       "      <td>C</td>\n",
       "      <td>NaN</td>\n",
       "      <td>NaN</td>\n",
       "      <td>20000337</td>\n",
       "      <td>1372637091</td>\n",
       "      <td>A</td>\n",
       "      <td>False</td>\n",
       "      <td>[[-8.645994,41.18049],[-8.645949,41.180517],[-...</td>\n",
       "      <td>420</td>\n",
       "      <td>0</td>\n",
       "      <td>2013</td>\n",
       "      <td>7</td>\n",
       "      <td>1</td>\n",
       "      <td>0</td>\n",
       "    </tr>\n",
       "  </tbody>\n",
       "</table>\n",
       "</div>"
      ],
      "text/plain": [
       "               TRIP_ID CALL_TYPE  ORIGIN_CALL  ORIGIN_STAND   TAXI_ID  \\\n",
       "0  1372636858620000589         C          NaN           NaN  20000589   \n",
       "1  1372637303620000596         B          NaN           7.0  20000596   \n",
       "2  1372636951620000320         C          NaN           NaN  20000320   \n",
       "3  1372636854620000520         C          NaN           NaN  20000520   \n",
       "4  1372637091620000337         C          NaN           NaN  20000337   \n",
       "\n",
       "    TIMESTAMP DAY_TYPE  MISSING_DATA  \\\n",
       "0  1372636858        A         False   \n",
       "1  1372637303        A         False   \n",
       "2  1372636951        A         False   \n",
       "3  1372636854        A         False   \n",
       "4  1372637091        A         False   \n",
       "\n",
       "                                            POLYLINE  LEN  HR    YR  MON  DAY  \\\n",
       "0  [[-8.618643,41.141412],[-8.618499,41.141376],[...  330   0  2013    7    1   \n",
       "1  [[-8.639847,41.159826],[-8.640351,41.159871],[...  270   0  2013    7    1   \n",
       "2  [[-8.612964,41.140359],[-8.613378,41.14035],[-...  960   0  2013    7    1   \n",
       "3  [[-8.574678,41.151951],[-8.574705,41.151942],[...  630   0  2013    7    1   \n",
       "4  [[-8.645994,41.18049],[-8.645949,41.180517],[-...  420   0  2013    7    1   \n",
       "\n",
       "   WK  \n",
       "0   0  \n",
       "1   0  \n",
       "2   0  \n",
       "3   0  \n",
       "4   0  "
      ]
     },
     "execution_count": 138,
     "metadata": {},
     "output_type": "execute_result"
    }
   ],
   "source": [
    "df_tr.head()"
   ]
  },
  {
   "cell_type": "markdown",
   "id": "296ad1ca",
   "metadata": {},
   "source": [
    "# Feature Engineering"
   ]
  },
  {
   "cell_type": "markdown",
   "id": "0906c4df",
   "metadata": {},
   "source": [
    "For this, the chosen features are the hours, month and day that the trip occured on. Instead of the categorical representation, their one hot representations will be used. These will be combined into a tensor with the shape [1710660, 69] or in otherwords we have 1710660 feature vectors each of length 69. The length of the trips will be turned into a tensor as well and we want its shape to be [1710660, 1] so we might need to reshape it."
   ]
  },
  {
   "cell_type": "code",
   "execution_count": 144,
   "id": "555c041e",
   "metadata": {},
   "outputs": [],
   "source": [
    "def transform(data, num_category):\n",
    "    one_hot = np.zeros(num_category)\n",
    "    one_hot[data] = 1\n",
    "    return one_hot\n",
    "\n",
    "def transform24(data):\n",
    "    return transform(data, 24)\n",
    "\n",
    "def transform12(data):\n",
    "    return transform(data, 13)\n",
    "\n",
    "def transform32(data):\n",
    "    return transform(data, 32)\n",
    "one_hot_hours = df_tr[\"HR\"].apply(transform24)\n",
    "one_hot_month = df_tr[\"MON\"].apply(transform12)\n",
    "one_hot_days = df_tr[\"DAY\"].apply(transform32)"
   ]
  },
  {
   "cell_type": "code",
   "execution_count": 145,
   "id": "b192e117",
   "metadata": {},
   "outputs": [],
   "source": [
    "#turn the three series into tensors and concat them horizontally\n",
    "hours = torch.tensor(one_hot_hours, dtype=torch.float32)\n",
    "month = torch.tensor(one_hot_month, dtype=torch.float32)\n",
    "days = torch.tensor(one_hot_days, dtype=torch.float32)\n",
    "raw_X = torch.cat((hours, month), dim=1)\n",
    "raw_X = torch.cat((raw_X, days), dim=1)"
   ]
  },
  {
   "cell_type": "code",
   "execution_count": 146,
   "id": "4c581c38",
   "metadata": {},
   "outputs": [],
   "source": [
    "#the y values will be the actual trip times\n",
    "raw_y = torch.tensor(df_tr[\"LEN\"], dtype=torch.float32)"
   ]
  },
  {
   "cell_type": "code",
   "execution_count": 147,
   "id": "499ed2dd",
   "metadata": {},
   "outputs": [
    {
     "name": "stdout",
     "output_type": "stream",
     "text": [
      "tensor([[1., 0., 0.,  ..., 0., 0., 0.],\n",
      "        [1., 0., 0.,  ..., 0., 0., 0.],\n",
      "        [1., 0., 0.,  ..., 0., 0., 0.],\n",
      "        ...,\n",
      "        [0., 0., 0.,  ..., 0., 0., 0.],\n",
      "        [0., 0., 0.,  ..., 0., 1., 0.],\n",
      "        [0., 0., 0.,  ..., 0., 1., 0.]])\n",
      "tensor([330., 270., 960.,  ...,   0., 915., 390.])\n",
      "raw_X.shape=torch.Size([1710660, 69]) raw_X.size()=torch.Size([1710660, 69])\n",
      "raw_y.shape=torch.Size([1710660]) raw_y.size()=torch.Size([1710660])\n"
     ]
    }
   ],
   "source": [
    "print(raw_X)\n",
    "print(raw_y)\n",
    "print(f\"{raw_X.shape=} {raw_X.size()=}\") \n",
    "print(f\"{raw_y.shape=} {raw_y.size()=}\") "
   ]
  },
  {
   "cell_type": "code",
   "execution_count": 148,
   "id": "972ccd9d",
   "metadata": {},
   "outputs": [
    {
     "name": "stdout",
     "output_type": "stream",
     "text": [
      "torch.Size([1500000, 69]) torch.Size([210660, 69])\n",
      "torch.Size([1500000]) torch.Size([210660])\n"
     ]
    }
   ],
   "source": [
    "#randomly populate the training and testing set with 1.5 million in the training and the rest in the testing\n",
    "perm = torch.randperm(df_tr[\"LEN\"].size)\n",
    "train_idx, test_idx = perm[:1500000], perm[1500000:]\n",
    "X_tr, y_tr = raw_X[train_idx], raw_y[train_idx]\n",
    "X_te, y_te = raw_X[test_idx], raw_y[test_idx]\n",
    "print(X_tr.shape, X_te.shape)\n",
    "print(y_tr.shape, y_te.shape)"
   ]
  },
  {
   "cell_type": "code",
   "execution_count": 149,
   "id": "8e5b0089",
   "metadata": {},
   "outputs": [
    {
     "name": "stdout",
     "output_type": "stream",
     "text": [
      "tensor([[0., 0., 0.,  ..., 0., 0., 0.],\n",
      "        [0., 0., 0.,  ..., 0., 0., 0.],\n",
      "        [0., 0., 0.,  ..., 0., 0., 0.],\n",
      "        ...,\n",
      "        [0., 0., 0.,  ..., 0., 0., 0.],\n",
      "        [0., 0., 0.,  ..., 0., 0., 0.],\n",
      "        [0., 0., 0.,  ..., 0., 0., 0.]])\n",
      "tensor([[ 540.],\n",
      "        [ 840.],\n",
      "        [ 420.],\n",
      "        ...,\n",
      "        [ 750.],\n",
      "        [1350.],\n",
      "        [ 225.]])\n",
      "torch.Size([1500000, 69]) torch.Size([210660, 69])\n",
      "torch.Size([1500000, 1]) torch.Size([210660, 1])\n"
     ]
    }
   ],
   "source": [
    "#do any reshapings that has to be done\n",
    "X_train, X_test = X_tr.reshape((-1, 69)), X_te.reshape((-1, 69))\n",
    "y_train, y_test = y_tr.reshape((-1, 1)), y_te.reshape((-1, 1))\n",
    "print(X_train)\n",
    "print(y_train)\n",
    "print(X_train.shape, X_test.shape)\n",
    "print(y_train.shape, y_test.shape)"
   ]
  },
  {
   "cell_type": "markdown",
   "id": "aaa3b3c7",
   "metadata": {},
   "source": [
    "# Creating Model"
   ]
  },
  {
   "cell_type": "markdown",
   "id": "e9d14899",
   "metadata": {},
   "source": [
    "This follows the Discussion 2 regression.ipynb code where it creates a Linear model, chooses the Mean Square Error Loss Function, and chooses SGD as the optimizer. Discussion 3 has another way of doing this where a new Model class is defined instead as well as classes are defined for DataLoading and more. "
   ]
  },
  {
   "cell_type": "code",
   "execution_count": 153,
   "id": "13346161",
   "metadata": {},
   "outputs": [],
   "source": [
    "# Define Model\n",
    "\n",
    "model = torch.nn.Sequential(\n",
    "  torch.nn.Linear(69, 1),\n",
    "    #we can stack this if we want more layers\n",
    "    #eg. torch.nn.Linear(1, 1),\n",
    "    #   torch.nn.Linear(1, 1),\n",
    ")\n",
    "\n",
    "# Define Loss Function / Objective Function\n",
    "loss_fn = torch.nn.MSELoss()\n",
    "#pytorch has default loss functions but you can pass in in your own loss function\n",
    "\n",
    "# Define optimizer (this will perform your parameter updates use)\n",
    "lr = 5e-3\n",
    "opt = torch.optim.SGD(model.parameters(), lr=lr)\n",
    "#we have to choose an optimizer, how params are updated, in this case we use SGD - standard gradient ascent and we pass in\n",
    "#the parameter's model, lr is the step rate, smaller = slower and precise, large = faster but can be unstable / overshoot"
   ]
  },
  {
   "cell_type": "code",
   "execution_count": 155,
   "id": "0636e2a6",
   "metadata": {},
   "outputs": [],
   "source": [
    "train_err = []\n",
    "test_err = []\n",
    "parameters = []\n",
    "for i in range(10000):\n",
    "  # have to call this when we want to start training\n",
    "  model.train()\n",
    "  \n",
    "  # will predict the values of y for the dataset consisting of x coordinates\n",
    "  y_pred = model(X_train) # Compute model outputs\n",
    "  \n",
    "  #calculates the loss between the prediction and the training data, should always be some loss    \n",
    "  loss = loss_fn(y_pred, y_train) # Compute MSE\n",
    "  \n",
    "\n",
    "  #clears optimizer / gradient through each iteration\n",
    "  opt.zero_grad() # Must reset the gradients every step. Otherwise, gradients from previous iterations would cause interference!!!\n",
    "  \n",
    "  loss.backward() # Compute gradients of all parameters (our model) with respect to our computed loss value (a singular value)\n",
    "  \n",
    "  opt.step() # One gradient step\n",
    "  \n",
    "#   print(loss, end=\"\")\n",
    "  #save loss rate to see how well our model is doing every step in regards to training data\n",
    "  train_err.append(loss.item())\n",
    "  \n",
    "  # model.eval() enters evaluating mode to test with \"unseen data\"\n",
    "  model.eval()\n",
    "  #torch.no_grad will stop from caculating gradient, we dont want to perform gradient descent so performance \n",
    "  with torch.no_grad():\n",
    "    #model predicts test data and we caclulate the loss to the actual test data\n",
    "    test_err.append(loss_fn(model(X_test), y_test).item())"
   ]
  },
  {
   "cell_type": "code",
   "execution_count": 158,
   "id": "94573965",
   "metadata": {},
   "outputs": [
    {
     "data": {
      "image/png": "[encoded data removed]",
      "text/plain": [
       "<Figure size 864x648 with 1 Axes>"
      ]
     },
     "metadata": {
      "needs_background": "light"
     },
     "output_type": "display_data"
    }
   ],
   "source": [
    "def visualize_graphs(train_err, test_err, title=\"\"):\n",
    "  plt.figure(figsize=(12,9))\n",
    "  plt.axhline(color=\"red\", lw=1)\n",
    "  plt.axvline(color=\"red\", lw=1)\n",
    "  if title:\n",
    "    plt.title(title, fontsize=24)\n",
    "  plt.xlabel(\"Iterations\", fontsize=18)\n",
    "  plt.ylabel(\"Loss\", fontsize=18)\n",
    "  \n",
    "  plt.plot(train_err, label=\"train\")\n",
    "  plt.plot(test_err, label=\"test\")\n",
    "  \n",
    "  plt.ylim(50000)\n",
    "  \n",
    "  plt.legend(loc=\"upper right\")\n",
    "  \n",
    "  \n",
    "visualize_graphs(train_err, test_err, \"Loss plots\")"
   ]
  },
  {
   "cell_type": "markdown",
   "id": "6083d669",
   "metadata": {},
   "source": [
    "# Create Prediction File"
   ]
  },
  {
   "cell_type": "markdown",
   "id": "5045e9d0",
   "metadata": {},
   "source": [
    "After the model has been trained, we can then run it on the public test cases. The public test cases are given in the test_public.csv file. The same transformation we applied to the training dataset has to be done to the test_public.csv file in order to run the model on it."
   ]
  },
  {
   "cell_type": "code",
   "execution_count": 159,
   "id": "be01cec4",
   "metadata": {},
   "outputs": [],
   "source": [
    "predict = pd.read_csv(\"test_public.csv\")"
   ]
  },
  {
   "cell_type": "code",
   "execution_count": 160,
   "id": "5064b1e9",
   "metadata": {},
   "outputs": [],
   "source": [
    "predict[[\"YR\", \"MON\", \"DAY\", \"HR\", \"WK\"]] = predict[[\"TIMESTAMP\"]].apply(parse_time, axis=1, result_type=\"expand\")"
   ]
  },
  {
   "cell_type": "code",
   "execution_count": 164,
   "id": "e7c4ce1a",
   "metadata": {},
   "outputs": [],
   "source": [
    "predict_one_hot_h = predict[\"HR\"].apply(transform24)\n",
    "predict_one_hot_m = predict[\"MON\"].apply(transform12)\n",
    "predict_one_hot_d = predict[\"DAY\"].apply(transform32)\n",
    "\n",
    "hoursP = torch.tensor(predict_one_hot_h, dtype=torch.float32)\n",
    "monthP = torch.tensor(predict_one_hot_m, dtype=torch.float32)\n",
    "daysP = torch.tensor(predict_one_hot_d, dtype=torch.float32)\n",
    "predict_hour = torch.cat((hoursP, monthP), dim=1)\n",
    "predict_hour = torch.cat((predict_hour, daysP), dim=1)\n",
    "\n",
    "model.eval()\n",
    "with torch.no_grad():\n",
    "    o = model(predict_hour)"
   ]
  },
  {
   "cell_type": "markdown",
   "id": "ee054aa4",
   "metadata": {},
   "source": [
    "After getting the output from the model, there should be 320 datapoints. We can open the sampleSubmission.csv and then add a new column for the TRAVEL_TIME and put in our predicted travel time. The csv then can be saved."
   ]
  },
  {
   "cell_type": "code",
   "execution_count": 165,
   "id": "f664a135",
   "metadata": {},
   "outputs": [],
   "source": [
    "df_sample = pd.read_csv(\"sampleSubmission.csv\")\n",
    "\n",
    "o = o.reshape(-1)\n",
    "out = o.numpy()\n",
    "for i in range(320):\n",
    "    df_sample.at[i, \"TRAVEL_TIME\"] = out[i]\n",
    "\n",
    "df_sample.to_csv(\"my_pred.csv\", index=None)"
   ]
  },
  {
   "cell_type": "markdown",
   "id": "46bbf1da",
   "metadata": {},
   "source": [
    "# Saving Models"
   ]
  },
  {
   "cell_type": "code",
   "execution_count": 166,
   "id": "b9ea1289",
   "metadata": {},
   "outputs": [],
   "source": [
    "import os \n",
    "os.makedirs('./saves/', exist_ok=True)\n",
    "torch.save(model.state_dict(), './saves/model_weights.pth')"
   ]
  },
  {
   "cell_type": "markdown",
   "id": "a26dbf15",
   "metadata": {},
   "source": [
    "After saving a model, you can load it back again like this. "
   ]
  },
  {
   "cell_type": "code",
   "execution_count": 167,
   "id": "779133b9",
   "metadata": {},
   "outputs": [],
   "source": [
    "new_model = torch.nn.Sequential(\n",
    "  torch.nn.Linear(69, 1),\n",
    "    #we can stack this if we want more layers\n",
    "    #eg. torch.nn.Linear(1, 1),\n",
    "    #   torch.nn.Linear(1, 1),\n",
    ")"
   ]
  },
  {
   "cell_type": "code",
   "execution_count": 168,
   "id": "8e83d48a",
   "metadata": {},
   "outputs": [
    {
     "data": {
      "text/plain": [
       "<All keys matched successfully>"
      ]
     },
     "execution_count": 168,
     "metadata": {},
     "output_type": "execute_result"
    }
   ],
   "source": [
    "# make sure the model is has the same \"structure\" so that the \"weights\" can be filled in.\n",
    "new_model.load_state_dict(torch.load('./saves/model_weights.pth'))"
   ]
  },
  {
   "cell_type": "code",
   "execution_count": null,
   "id": "dd434098",
   "metadata": {},
   "outputs": [],
   "source": []
  }
 ],
 "metadata": {
  "kernelspec": {
   "display_name": "Python 3 (clean)",
   "language": "python",
   "name": "python3_clean"
  },
  "language_info": {
   "codemirror_mode": {
    "name": "ipython",
    "version": 3
   },
   "file_extension": ".py",
   "mimetype": "text/x-python",
   "name": "python",
   "nbconvert_exporter": "python",
   "pygments_lexer": "ipython3",
   "version": "3.9.5"
  }
 },
 "nbformat": 4,
 "nbformat_minor": 5
}
