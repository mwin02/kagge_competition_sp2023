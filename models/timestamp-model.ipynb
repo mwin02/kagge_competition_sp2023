{
 "cells": [
  {
   "cell_type": "markdown",
   "id": "179fc397",
   "metadata": {},
   "source": [
    "# Kaggle Taxi Cab Analysis"
   ]
  },
  {
   "cell_type": "markdown",
   "id": "d417d968",
   "metadata": {},
   "source": [
    "## Loading Libraries and Datasets"
   ]
  },
  {
   "cell_type": "markdown",
   "id": "078409ef",
   "metadata": {},
   "source": [
    "Importing pandas, pytorch and numpy"
   ]
  },
  {
   "cell_type": "code",
   "execution_count": 43,
   "id": "3f272db5",
   "metadata": {},
   "outputs": [
    {
     "name": "stdout",
     "output_type": "stream",
     "text": [
      "PyTorch Version: 1.9.0+cu111\n"
     ]
    }
   ],
   "source": [
    "import pandas as pd\n",
    "import torch, numpy as np\n",
    "import matplotlib.pyplot as plt\n",
    "import matplotlib.colors as mcolors\n",
    "from datetime import datetime\n",
    "import math\n",
    "import os \n",
    "print(f\"PyTorch Version: {torch.__version__}\")"
   ]
  },
  {
   "cell_type": "code",
   "execution_count": 2,
   "id": "02d6406a",
   "metadata": {},
   "outputs": [
    {
     "name": "stdout",
     "output_type": "stream",
     "text": [
      "cuda:0\n"
     ]
    }
   ],
   "source": [
    "device = torch.device('cuda:0' if torch.cuda.is_available() else 'cpu')\n",
    "print(device)"
   ]
  },
  {
   "cell_type": "markdown",
   "id": "9a1b31ef",
   "metadata": {},
   "source": [
    "Read in the train.csv file into a pandas dataframe."
   ]
  },
  {
   "cell_type": "code",
   "execution_count": 3,
   "id": "7a620216",
   "metadata": {},
   "outputs": [],
   "source": [
    "df_tr = pd.read_csv(\"train.csv\")"
   ]
  },
  {
   "cell_type": "code",
   "execution_count": 4,
   "id": "4e20a91a",
   "metadata": {},
   "outputs": [
    {
     "name": "stdout",
     "output_type": "stream",
     "text": [
      "(1710670, 9)\n"
     ]
    },
    {
     "data": {
      "text/html": [
       "<div>\n",
       "<style scoped>\n",
       "    .dataframe tbody tr th:only-of-type {\n",
       "        vertical-align: middle;\n",
       "    }\n",
       "\n",
       "    .dataframe tbody tr th {\n",
       "        vertical-align: top;\n",
       "    }\n",
       "\n",
       "    .dataframe thead th {\n",
       "        text-align: right;\n",
       "    }\n",
       "</style>\n",
       "<table border=\"1\" class=\"dataframe\">\n",
       "  <thead>\n",
       "    <tr style=\"text-align: right;\">\n",
       "      <th></th>\n",
       "      <th>TRIP_ID</th>\n",
       "      <th>CALL_TYPE</th>\n",
       "      <th>ORIGIN_CALL</th>\n",
       "      <th>ORIGIN_STAND</th>\n",
       "      <th>TAXI_ID</th>\n",
       "      <th>TIMESTAMP</th>\n",
       "      <th>DAY_TYPE</th>\n",
       "      <th>MISSING_DATA</th>\n",
       "      <th>POLYLINE</th>\n",
       "    </tr>\n",
       "  </thead>\n",
       "  <tbody>\n",
       "    <tr>\n",
       "      <th>0</th>\n",
       "      <td>1372636858620000589</td>\n",
       "      <td>C</td>\n",
       "      <td>NaN</td>\n",
       "      <td>NaN</td>\n",
       "      <td>20000589</td>\n",
       "      <td>1372636858</td>\n",
       "      <td>A</td>\n",
       "      <td>False</td>\n",
       "      <td>[[-8.618643,41.141412],[-8.618499,41.141376],[...</td>\n",
       "    </tr>\n",
       "    <tr>\n",
       "      <th>1</th>\n",
       "      <td>1372637303620000596</td>\n",
       "      <td>B</td>\n",
       "      <td>NaN</td>\n",
       "      <td>7.0</td>\n",
       "      <td>20000596</td>\n",
       "      <td>1372637303</td>\n",
       "      <td>A</td>\n",
       "      <td>False</td>\n",
       "      <td>[[-8.639847,41.159826],[-8.640351,41.159871],[...</td>\n",
       "    </tr>\n",
       "    <tr>\n",
       "      <th>2</th>\n",
       "      <td>1372636951620000320</td>\n",
       "      <td>C</td>\n",
       "      <td>NaN</td>\n",
       "      <td>NaN</td>\n",
       "      <td>20000320</td>\n",
       "      <td>1372636951</td>\n",
       "      <td>A</td>\n",
       "      <td>False</td>\n",
       "      <td>[[-8.612964,41.140359],[-8.613378,41.14035],[-...</td>\n",
       "    </tr>\n",
       "    <tr>\n",
       "      <th>3</th>\n",
       "      <td>1372636854620000520</td>\n",
       "      <td>C</td>\n",
       "      <td>NaN</td>\n",
       "      <td>NaN</td>\n",
       "      <td>20000520</td>\n",
       "      <td>1372636854</td>\n",
       "      <td>A</td>\n",
       "      <td>False</td>\n",
       "      <td>[[-8.574678,41.151951],[-8.574705,41.151942],[...</td>\n",
       "    </tr>\n",
       "    <tr>\n",
       "      <th>4</th>\n",
       "      <td>1372637091620000337</td>\n",
       "      <td>C</td>\n",
       "      <td>NaN</td>\n",
       "      <td>NaN</td>\n",
       "      <td>20000337</td>\n",
       "      <td>1372637091</td>\n",
       "      <td>A</td>\n",
       "      <td>False</td>\n",
       "      <td>[[-8.645994,41.18049],[-8.645949,41.180517],[-...</td>\n",
       "    </tr>\n",
       "  </tbody>\n",
       "</table>\n",
       "</div>"
      ],
      "text/plain": [
       "               TRIP_ID CALL_TYPE  ORIGIN_CALL  ORIGIN_STAND   TAXI_ID  \\\n",
       "0  1372636858620000589         C          NaN           NaN  20000589   \n",
       "1  1372637303620000596         B          NaN           7.0  20000596   \n",
       "2  1372636951620000320         C          NaN           NaN  20000320   \n",
       "3  1372636854620000520         C          NaN           NaN  20000520   \n",
       "4  1372637091620000337         C          NaN           NaN  20000337   \n",
       "\n",
       "    TIMESTAMP DAY_TYPE  MISSING_DATA  \\\n",
       "0  1372636858        A         False   \n",
       "1  1372637303        A         False   \n",
       "2  1372636951        A         False   \n",
       "3  1372636854        A         False   \n",
       "4  1372637091        A         False   \n",
       "\n",
       "                                            POLYLINE  \n",
       "0  [[-8.618643,41.141412],[-8.618499,41.141376],[...  \n",
       "1  [[-8.639847,41.159826],[-8.640351,41.159871],[...  \n",
       "2  [[-8.612964,41.140359],[-8.613378,41.14035],[-...  \n",
       "3  [[-8.574678,41.151951],[-8.574705,41.151942],[...  \n",
       "4  [[-8.645994,41.18049],[-8.645949,41.180517],[-...  "
      ]
     },
     "execution_count": 4,
     "metadata": {},
     "output_type": "execute_result"
    }
   ],
   "source": [
    "print(df_tr.shape)\n",
    "df_tr.head()"
   ]
  },
  {
   "cell_type": "markdown",
   "id": "47edfe7a",
   "metadata": {},
   "source": [
    "Removing the 10 trips with MISSING_DATA true meaning they have no POLYLINE and thus no travel time."
   ]
  },
  {
   "cell_type": "code",
   "execution_count": 5,
   "id": "3f1b0d77",
   "metadata": {},
   "outputs": [],
   "source": [
    "missingIndex = df_tr[df_tr[\"MISSING_DATA\"]].index\n",
    "df_tr.drop(missingIndex , inplace=True)"
   ]
  },
  {
   "cell_type": "code",
   "execution_count": 6,
   "id": "fda3f644",
   "metadata": {
    "scrolled": true
   },
   "outputs": [
    {
     "name": "stdout",
     "output_type": "stream",
     "text": [
      "(1710660, 9)\n"
     ]
    },
    {
     "data": {
      "text/html": [
       "<div>\n",
       "<style scoped>\n",
       "    .dataframe tbody tr th:only-of-type {\n",
       "        vertical-align: middle;\n",
       "    }\n",
       "\n",
       "    .dataframe tbody tr th {\n",
       "        vertical-align: top;\n",
       "    }\n",
       "\n",
       "    .dataframe thead th {\n",
       "        text-align: right;\n",
       "    }\n",
       "</style>\n",
       "<table border=\"1\" class=\"dataframe\">\n",
       "  <thead>\n",
       "    <tr style=\"text-align: right;\">\n",
       "      <th></th>\n",
       "      <th>TRIP_ID</th>\n",
       "      <th>CALL_TYPE</th>\n",
       "      <th>ORIGIN_CALL</th>\n",
       "      <th>ORIGIN_STAND</th>\n",
       "      <th>TAXI_ID</th>\n",
       "      <th>TIMESTAMP</th>\n",
       "      <th>DAY_TYPE</th>\n",
       "      <th>MISSING_DATA</th>\n",
       "      <th>POLYLINE</th>\n",
       "    </tr>\n",
       "  </thead>\n",
       "  <tbody>\n",
       "    <tr>\n",
       "      <th>0</th>\n",
       "      <td>1372636858620000589</td>\n",
       "      <td>C</td>\n",
       "      <td>NaN</td>\n",
       "      <td>NaN</td>\n",
       "      <td>20000589</td>\n",
       "      <td>1372636858</td>\n",
       "      <td>A</td>\n",
       "      <td>False</td>\n",
       "      <td>[[-8.618643,41.141412],[-8.618499,41.141376],[...</td>\n",
       "    </tr>\n",
       "    <tr>\n",
       "      <th>1</th>\n",
       "      <td>1372637303620000596</td>\n",
       "      <td>B</td>\n",
       "      <td>NaN</td>\n",
       "      <td>7.0</td>\n",
       "      <td>20000596</td>\n",
       "      <td>1372637303</td>\n",
       "      <td>A</td>\n",
       "      <td>False</td>\n",
       "      <td>[[-8.639847,41.159826],[-8.640351,41.159871],[...</td>\n",
       "    </tr>\n",
       "    <tr>\n",
       "      <th>2</th>\n",
       "      <td>1372636951620000320</td>\n",
       "      <td>C</td>\n",
       "      <td>NaN</td>\n",
       "      <td>NaN</td>\n",
       "      <td>20000320</td>\n",
       "      <td>1372636951</td>\n",
       "      <td>A</td>\n",
       "      <td>False</td>\n",
       "      <td>[[-8.612964,41.140359],[-8.613378,41.14035],[-...</td>\n",
       "    </tr>\n",
       "    <tr>\n",
       "      <th>3</th>\n",
       "      <td>1372636854620000520</td>\n",
       "      <td>C</td>\n",
       "      <td>NaN</td>\n",
       "      <td>NaN</td>\n",
       "      <td>20000520</td>\n",
       "      <td>1372636854</td>\n",
       "      <td>A</td>\n",
       "      <td>False</td>\n",
       "      <td>[[-8.574678,41.151951],[-8.574705,41.151942],[...</td>\n",
       "    </tr>\n",
       "    <tr>\n",
       "      <th>4</th>\n",
       "      <td>1372637091620000337</td>\n",
       "      <td>C</td>\n",
       "      <td>NaN</td>\n",
       "      <td>NaN</td>\n",
       "      <td>20000337</td>\n",
       "      <td>1372637091</td>\n",
       "      <td>A</td>\n",
       "      <td>False</td>\n",
       "      <td>[[-8.645994,41.18049],[-8.645949,41.180517],[-...</td>\n",
       "    </tr>\n",
       "  </tbody>\n",
       "</table>\n",
       "</div>"
      ],
      "text/plain": [
       "               TRIP_ID CALL_TYPE  ORIGIN_CALL  ORIGIN_STAND   TAXI_ID  \\\n",
       "0  1372636858620000589         C          NaN           NaN  20000589   \n",
       "1  1372637303620000596         B          NaN           7.0  20000596   \n",
       "2  1372636951620000320         C          NaN           NaN  20000320   \n",
       "3  1372636854620000520         C          NaN           NaN  20000520   \n",
       "4  1372637091620000337         C          NaN           NaN  20000337   \n",
       "\n",
       "    TIMESTAMP DAY_TYPE  MISSING_DATA  \\\n",
       "0  1372636858        A         False   \n",
       "1  1372637303        A         False   \n",
       "2  1372636951        A         False   \n",
       "3  1372636854        A         False   \n",
       "4  1372637091        A         False   \n",
       "\n",
       "                                            POLYLINE  \n",
       "0  [[-8.618643,41.141412],[-8.618499,41.141376],[...  \n",
       "1  [[-8.639847,41.159826],[-8.640351,41.159871],[...  \n",
       "2  [[-8.612964,41.140359],[-8.613378,41.14035],[-...  \n",
       "3  [[-8.574678,41.151951],[-8.574705,41.151942],[...  \n",
       "4  [[-8.645994,41.18049],[-8.645949,41.180517],[-...  "
      ]
     },
     "execution_count": 6,
     "metadata": {},
     "output_type": "execute_result"
    }
   ],
   "source": [
    "print(df_tr.shape)\n",
    "df_tr.head()"
   ]
  },
  {
   "cell_type": "markdown",
   "id": "bd3bb44f",
   "metadata": {},
   "source": [
    "# Get Computed Travel Time"
   ]
  },
  {
   "cell_type": "markdown",
   "id": "2c43649a",
   "metadata": {},
   "source": [
    "Add a \"LEN\" column to the dataframe with a trip's travel time calculated by getting the number of elements in the POLYLINE and multiplying by 15 seconds. A single element in the POLYLINE represents a start longtitude/latitude and an end longtitude/latitude and represents 15 seconds of travel."
   ]
  },
  {
   "cell_type": "code",
   "execution_count": 7,
   "id": "9c218d40",
   "metadata": {},
   "outputs": [],
   "source": [
    "# Over every single \n",
    "def polyline_to_trip_duration(polyline):\n",
    "  return max(polyline.count(\"[\") - 2, 0) * 15\n",
    "\n",
    "# This code creates a new column, \"LEN\", in our dataframe. The value is\n",
    "# the (polyline_length - 1) * 15, where polyline_length = count(\"[\") - 1\n",
    "df_tr[\"LEN\"] = df_tr[\"POLYLINE\"].apply(polyline_to_trip_duration)"
   ]
  },
  {
   "cell_type": "markdown",
   "id": "1fe47895",
   "metadata": {},
   "source": [
    "Translates the TIMESTAMP which is in epoch time into YR, MON, DAY, HR, WK columns."
   ]
  },
  {
   "cell_type": "code",
   "execution_count": 8,
   "id": "5d54188e",
   "metadata": {},
   "outputs": [],
   "source": [
    "def parse_time(x):\n",
    "  # We are using python's builtin datetime library\n",
    "  # https://docs.python.org/3/library/datetime.html#datetime.date.fromtimestamp\n",
    "\n",
    "  # Each x is essentially a 1 row, 1 column pandas Series\n",
    "  dt = datetime.fromtimestamp(x[\"TIMESTAMP\"])\n",
    "  return dt.year, dt.month, dt.day, dt.hour, dt.weekday(), dt.minute\n",
    "\n",
    "# Because we are assigning multiple values at a time, we need to \"expand\" our computed (year, month, day, hour, weekday) tuples on \n",
    "# the column axis, or axis 1\n",
    "# https://pandas.pydata.org/docs/reference/api/pandas.DataFrame.apply.html\n",
    "df_tr[[\"YR\", \"MON\", \"DAY\", \"HR\", \"WK\", \"MIN\"]] = df_tr[[\"TIMESTAMP\"]].apply(parse_time, axis=1, result_type=\"expand\")\n"
   ]
  },
  {
   "cell_type": "code",
   "execution_count": 9,
   "id": "db270c84",
   "metadata": {},
   "outputs": [],
   "source": [
    "df_trimmed = df_tr[df_tr[\"LEN\"] < df_tr[\"LEN\"].mean() + 3 * df_tr[\"LEN\"].std()].copy()"
   ]
  },
  {
   "cell_type": "code",
   "execution_count": 10,
   "id": "b45827f8",
   "metadata": {},
   "outputs": [
    {
     "data": {
      "text/plain": [
       "1692763"
      ]
     },
     "execution_count": 10,
     "metadata": {},
     "output_type": "execute_result"
    }
   ],
   "source": [
    "len(df_trimmed)"
   ]
  },
  {
   "cell_type": "code",
   "execution_count": 11,
   "id": "996b70aa",
   "metadata": {},
   "outputs": [],
   "source": [
    "df_trimmed = df_trimmed[df_trimmed[\"LEN\"] > 100].copy()"
   ]
  },
  {
   "cell_type": "code",
   "execution_count": 12,
   "id": "f84dad34",
   "metadata": {},
   "outputs": [
    {
     "data": {
      "text/plain": [
       "1631042"
      ]
     },
     "execution_count": 12,
     "metadata": {},
     "output_type": "execute_result"
    }
   ],
   "source": [
    "len(df_trimmed)"
   ]
  },
  {
   "cell_type": "code",
   "execution_count": 13,
   "id": "48c7130d",
   "metadata": {},
   "outputs": [
    {
     "data": {
      "text/html": [
       "<div>\n",
       "<style scoped>\n",
       "    .dataframe tbody tr th:only-of-type {\n",
       "        vertical-align: middle;\n",
       "    }\n",
       "\n",
       "    .dataframe tbody tr th {\n",
       "        vertical-align: top;\n",
       "    }\n",
       "\n",
       "    .dataframe thead th {\n",
       "        text-align: right;\n",
       "    }\n",
       "</style>\n",
       "<table border=\"1\" class=\"dataframe\">\n",
       "  <thead>\n",
       "    <tr style=\"text-align: right;\">\n",
       "      <th></th>\n",
       "      <th>index</th>\n",
       "      <th>TRIP_ID</th>\n",
       "      <th>CALL_TYPE</th>\n",
       "      <th>ORIGIN_CALL</th>\n",
       "      <th>ORIGIN_STAND</th>\n",
       "      <th>TAXI_ID</th>\n",
       "      <th>TIMESTAMP</th>\n",
       "      <th>DAY_TYPE</th>\n",
       "      <th>MISSING_DATA</th>\n",
       "      <th>POLYLINE</th>\n",
       "      <th>LEN</th>\n",
       "      <th>YR</th>\n",
       "      <th>MON</th>\n",
       "      <th>DAY</th>\n",
       "      <th>HR</th>\n",
       "      <th>WK</th>\n",
       "      <th>MIN</th>\n",
       "    </tr>\n",
       "  </thead>\n",
       "  <tbody>\n",
       "    <tr>\n",
       "      <th>0</th>\n",
       "      <td>0</td>\n",
       "      <td>1372636858620000589</td>\n",
       "      <td>C</td>\n",
       "      <td>NaN</td>\n",
       "      <td>NaN</td>\n",
       "      <td>20000589</td>\n",
       "      <td>1372636858</td>\n",
       "      <td>A</td>\n",
       "      <td>False</td>\n",
       "      <td>[[-8.618643,41.141412],[-8.618499,41.141376],[...</td>\n",
       "      <td>330</td>\n",
       "      <td>2013</td>\n",
       "      <td>7</td>\n",
       "      <td>1</td>\n",
       "      <td>0</td>\n",
       "      <td>0</td>\n",
       "      <td>0</td>\n",
       "    </tr>\n",
       "    <tr>\n",
       "      <th>1</th>\n",
       "      <td>1</td>\n",
       "      <td>1372637303620000596</td>\n",
       "      <td>B</td>\n",
       "      <td>NaN</td>\n",
       "      <td>7.0</td>\n",
       "      <td>20000596</td>\n",
       "      <td>1372637303</td>\n",
       "      <td>A</td>\n",
       "      <td>False</td>\n",
       "      <td>[[-8.639847,41.159826],[-8.640351,41.159871],[...</td>\n",
       "      <td>270</td>\n",
       "      <td>2013</td>\n",
       "      <td>7</td>\n",
       "      <td>1</td>\n",
       "      <td>0</td>\n",
       "      <td>0</td>\n",
       "      <td>8</td>\n",
       "    </tr>\n",
       "    <tr>\n",
       "      <th>2</th>\n",
       "      <td>2</td>\n",
       "      <td>1372636951620000320</td>\n",
       "      <td>C</td>\n",
       "      <td>NaN</td>\n",
       "      <td>NaN</td>\n",
       "      <td>20000320</td>\n",
       "      <td>1372636951</td>\n",
       "      <td>A</td>\n",
       "      <td>False</td>\n",
       "      <td>[[-8.612964,41.140359],[-8.613378,41.14035],[-...</td>\n",
       "      <td>960</td>\n",
       "      <td>2013</td>\n",
       "      <td>7</td>\n",
       "      <td>1</td>\n",
       "      <td>0</td>\n",
       "      <td>0</td>\n",
       "      <td>2</td>\n",
       "    </tr>\n",
       "    <tr>\n",
       "      <th>3</th>\n",
       "      <td>3</td>\n",
       "      <td>1372636854620000520</td>\n",
       "      <td>C</td>\n",
       "      <td>NaN</td>\n",
       "      <td>NaN</td>\n",
       "      <td>20000520</td>\n",
       "      <td>1372636854</td>\n",
       "      <td>A</td>\n",
       "      <td>False</td>\n",
       "      <td>[[-8.574678,41.151951],[-8.574705,41.151942],[...</td>\n",
       "      <td>630</td>\n",
       "      <td>2013</td>\n",
       "      <td>7</td>\n",
       "      <td>1</td>\n",
       "      <td>0</td>\n",
       "      <td>0</td>\n",
       "      <td>0</td>\n",
       "    </tr>\n",
       "    <tr>\n",
       "      <th>4</th>\n",
       "      <td>4</td>\n",
       "      <td>1372637091620000337</td>\n",
       "      <td>C</td>\n",
       "      <td>NaN</td>\n",
       "      <td>NaN</td>\n",
       "      <td>20000337</td>\n",
       "      <td>1372637091</td>\n",
       "      <td>A</td>\n",
       "      <td>False</td>\n",
       "      <td>[[-8.645994,41.18049],[-8.645949,41.180517],[-...</td>\n",
       "      <td>420</td>\n",
       "      <td>2013</td>\n",
       "      <td>7</td>\n",
       "      <td>1</td>\n",
       "      <td>0</td>\n",
       "      <td>0</td>\n",
       "      <td>4</td>\n",
       "    </tr>\n",
       "    <tr>\n",
       "      <th>...</th>\n",
       "      <td>...</td>\n",
       "      <td>...</td>\n",
       "      <td>...</td>\n",
       "      <td>...</td>\n",
       "      <td>...</td>\n",
       "      <td>...</td>\n",
       "      <td>...</td>\n",
       "      <td>...</td>\n",
       "      <td>...</td>\n",
       "      <td>...</td>\n",
       "      <td>...</td>\n",
       "      <td>...</td>\n",
       "      <td>...</td>\n",
       "      <td>...</td>\n",
       "      <td>...</td>\n",
       "      <td>...</td>\n",
       "      <td>...</td>\n",
       "    </tr>\n",
       "    <tr>\n",
       "      <th>1631037</th>\n",
       "      <td>1710662</td>\n",
       "      <td>1404155105620000121</td>\n",
       "      <td>B</td>\n",
       "      <td>NaN</td>\n",
       "      <td>9.0</td>\n",
       "      <td>20000121</td>\n",
       "      <td>1404155105</td>\n",
       "      <td>A</td>\n",
       "      <td>False</td>\n",
       "      <td>[[-8.606385,41.144742],[-8.606466,41.144742],[...</td>\n",
       "      <td>1050</td>\n",
       "      <td>2014</td>\n",
       "      <td>6</td>\n",
       "      <td>30</td>\n",
       "      <td>19</td>\n",
       "      <td>0</td>\n",
       "      <td>5</td>\n",
       "    </tr>\n",
       "    <tr>\n",
       "      <th>1631038</th>\n",
       "      <td>1710665</td>\n",
       "      <td>1404171463620000698</td>\n",
       "      <td>C</td>\n",
       "      <td>NaN</td>\n",
       "      <td>NaN</td>\n",
       "      <td>20000698</td>\n",
       "      <td>1404171463</td>\n",
       "      <td>A</td>\n",
       "      <td>False</td>\n",
       "      <td>[[-8.612469,41.14602],[-8.612487,41.145993],[-...</td>\n",
       "      <td>465</td>\n",
       "      <td>2014</td>\n",
       "      <td>6</td>\n",
       "      <td>30</td>\n",
       "      <td>23</td>\n",
       "      <td>0</td>\n",
       "      <td>37</td>\n",
       "    </tr>\n",
       "    <tr>\n",
       "      <th>1631039</th>\n",
       "      <td>1710666</td>\n",
       "      <td>1404171367620000670</td>\n",
       "      <td>C</td>\n",
       "      <td>NaN</td>\n",
       "      <td>NaN</td>\n",
       "      <td>20000670</td>\n",
       "      <td>1404171367</td>\n",
       "      <td>A</td>\n",
       "      <td>False</td>\n",
       "      <td>[[-8.610138,41.140845],[-8.610174,41.140935],[...</td>\n",
       "      <td>435</td>\n",
       "      <td>2014</td>\n",
       "      <td>6</td>\n",
       "      <td>30</td>\n",
       "      <td>23</td>\n",
       "      <td>0</td>\n",
       "      <td>36</td>\n",
       "    </tr>\n",
       "    <tr>\n",
       "      <th>1631040</th>\n",
       "      <td>1710668</td>\n",
       "      <td>1404141826620000248</td>\n",
       "      <td>B</td>\n",
       "      <td>NaN</td>\n",
       "      <td>12.0</td>\n",
       "      <td>20000248</td>\n",
       "      <td>1404141826</td>\n",
       "      <td>A</td>\n",
       "      <td>False</td>\n",
       "      <td>[[-8.630712,41.154885],[-8.63073,41.154813],[-...</td>\n",
       "      <td>915</td>\n",
       "      <td>2014</td>\n",
       "      <td>6</td>\n",
       "      <td>30</td>\n",
       "      <td>15</td>\n",
       "      <td>0</td>\n",
       "      <td>23</td>\n",
       "    </tr>\n",
       "    <tr>\n",
       "      <th>1631041</th>\n",
       "      <td>1710669</td>\n",
       "      <td>1404157147620000079</td>\n",
       "      <td>B</td>\n",
       "      <td>NaN</td>\n",
       "      <td>34.0</td>\n",
       "      <td>20000079</td>\n",
       "      <td>1404157147</td>\n",
       "      <td>A</td>\n",
       "      <td>False</td>\n",
       "      <td>[[-8.615538,41.140629],[-8.615421,41.140746],[...</td>\n",
       "      <td>390</td>\n",
       "      <td>2014</td>\n",
       "      <td>6</td>\n",
       "      <td>30</td>\n",
       "      <td>19</td>\n",
       "      <td>0</td>\n",
       "      <td>39</td>\n",
       "    </tr>\n",
       "  </tbody>\n",
       "</table>\n",
       "<p>1631042 rows × 17 columns</p>\n",
       "</div>"
      ],
      "text/plain": [
       "           index              TRIP_ID CALL_TYPE  ORIGIN_CALL  ORIGIN_STAND  \\\n",
       "0              0  1372636858620000589         C          NaN           NaN   \n",
       "1              1  1372637303620000596         B          NaN           7.0   \n",
       "2              2  1372636951620000320         C          NaN           NaN   \n",
       "3              3  1372636854620000520         C          NaN           NaN   \n",
       "4              4  1372637091620000337         C          NaN           NaN   \n",
       "...          ...                  ...       ...          ...           ...   \n",
       "1631037  1710662  1404155105620000121         B          NaN           9.0   \n",
       "1631038  1710665  1404171463620000698         C          NaN           NaN   \n",
       "1631039  1710666  1404171367620000670         C          NaN           NaN   \n",
       "1631040  1710668  1404141826620000248         B          NaN          12.0   \n",
       "1631041  1710669  1404157147620000079         B          NaN          34.0   \n",
       "\n",
       "          TAXI_ID   TIMESTAMP DAY_TYPE  MISSING_DATA  \\\n",
       "0        20000589  1372636858        A         False   \n",
       "1        20000596  1372637303        A         False   \n",
       "2        20000320  1372636951        A         False   \n",
       "3        20000520  1372636854        A         False   \n",
       "4        20000337  1372637091        A         False   \n",
       "...           ...         ...      ...           ...   \n",
       "1631037  20000121  1404155105        A         False   \n",
       "1631038  20000698  1404171463        A         False   \n",
       "1631039  20000670  1404171367        A         False   \n",
       "1631040  20000248  1404141826        A         False   \n",
       "1631041  20000079  1404157147        A         False   \n",
       "\n",
       "                                                  POLYLINE   LEN    YR  MON  \\\n",
       "0        [[-8.618643,41.141412],[-8.618499,41.141376],[...   330  2013    7   \n",
       "1        [[-8.639847,41.159826],[-8.640351,41.159871],[...   270  2013    7   \n",
       "2        [[-8.612964,41.140359],[-8.613378,41.14035],[-...   960  2013    7   \n",
       "3        [[-8.574678,41.151951],[-8.574705,41.151942],[...   630  2013    7   \n",
       "4        [[-8.645994,41.18049],[-8.645949,41.180517],[-...   420  2013    7   \n",
       "...                                                    ...   ...   ...  ...   \n",
       "1631037  [[-8.606385,41.144742],[-8.606466,41.144742],[...  1050  2014    6   \n",
       "1631038  [[-8.612469,41.14602],[-8.612487,41.145993],[-...   465  2014    6   \n",
       "1631039  [[-8.610138,41.140845],[-8.610174,41.140935],[...   435  2014    6   \n",
       "1631040  [[-8.630712,41.154885],[-8.63073,41.154813],[-...   915  2014    6   \n",
       "1631041  [[-8.615538,41.140629],[-8.615421,41.140746],[...   390  2014    6   \n",
       "\n",
       "         DAY  HR  WK  MIN  \n",
       "0          1   0   0    0  \n",
       "1          1   0   0    8  \n",
       "2          1   0   0    2  \n",
       "3          1   0   0    0  \n",
       "4          1   0   0    4  \n",
       "...      ...  ..  ..  ...  \n",
       "1631037   30  19   0    5  \n",
       "1631038   30  23   0   37  \n",
       "1631039   30  23   0   36  \n",
       "1631040   30  15   0   23  \n",
       "1631041   30  19   0   39  \n",
       "\n",
       "[1631042 rows x 17 columns]"
      ]
     },
     "execution_count": 13,
     "metadata": {},
     "output_type": "execute_result"
    }
   ],
   "source": [
    "df_trimmed.reset_index()"
   ]
  },
  {
   "cell_type": "code",
   "execution_count": 14,
   "id": "b1384cd2",
   "metadata": {},
   "outputs": [
    {
     "name": "stdout",
     "output_type": "stream",
     "text": [
      "The number of unique values for features TRIP_ID : 1631042\n",
      "The number of unique values for features CALL_TYPE : 3 --- ['A' 'B' 'C']\n",
      "The number of unique values for features ORIGIN_CALL : 56524\n",
      "The number of unique values for features ORIGIN_STAND : 64\n",
      "The number of unique values for features TAXI_ID : 441\n",
      "The number of unique values for features TIMESTAMP : 1580607\n",
      "The number of unique values for features DAY_TYPE : 1 --- ['A']\n",
      "The number of unique values for features MISSING_DATA : 1 --- [False]\n",
      "The number of unique values for features POLYLINE : 1631042\n",
      "The number of unique values for features LEN : 178\n",
      "The number of unique values for features YR : 2 --- [2013 2014]\n",
      "The number of unique values for features MON : 12\n",
      "The number of unique values for features DAY : 31\n",
      "The number of unique values for features HR : 24\n",
      "The number of unique values for features WK : 7 --- [0 1 2 3 4 5 6]\n",
      "The number of unique values for features MIN : 60\n"
     ]
    }
   ],
   "source": [
    "for colum in df_trimmed:\n",
    "    unique_values = np.unique(df_trimmed[colum])\n",
    "    nr_values = len(unique_values)\n",
    "    if nr_values < 10:\n",
    "        print(\"The number of unique values for features {} : {} --- {}\".format(colum, nr_values,unique_values))\n",
    "    else:\n",
    "         print(\"The number of unique values for features {} : {}\".format(colum, nr_values))"
   ]
  },
  {
   "cell_type": "markdown",
   "id": "296ad1ca",
   "metadata": {},
   "source": [
    "# Feature Engineering"
   ]
  },
  {
   "cell_type": "markdown",
   "id": "77a86b93",
   "metadata": {},
   "source": [
    "For this, the chosen features are the hours, month and day that the trip occured on and the call_type. Instead of the categorical representation, their one hot representations will be used. These will be combined into a tensor with the shape [1710660, 72] or in otherwords we have 1710660 feature vectors each of length 72. The length of the trips will be turned into a tensor as well and we want its shape to be [1710660, 1] so we might need to reshape it."
   ]
  },
  {
   "cell_type": "code",
   "execution_count": 15,
   "id": "555c041e",
   "metadata": {},
   "outputs": [],
   "source": [
    "def transform(data, num_category):\n",
    "    one_hot = np.zeros(num_category, dtype=np.float16)\n",
    "    one_hot[data] = 1\n",
    "    return one_hot\n",
    "\n",
    "def transform60(data):\n",
    "    return transform(data, 60)\n",
    "\n",
    "def transform24(data):\n",
    "    return transform(data, 24)\n",
    "\n",
    "def transform12(data):\n",
    "    return transform(data, 13)[1:13]\n",
    "\n",
    "def transfrom7(data):\n",
    "    return transform(data, 7)\n",
    "\n",
    "def transform31(data):\n",
    "    return transform(data, 32)[1:32]\n",
    "\n",
    "def transformCallType(data):\n",
    "    if data == 'A':\n",
    "        return (1,0,0)\n",
    "    elif data == 'B':\n",
    "        return (0,1,0)\n",
    "    else :\n",
    "        return (0,0,1)\n",
    "\n",
    "def parseOriginCall(data):\n",
    "    if data != data:\n",
    "        res = 0\n",
    "    else:\n",
    "        res = 1\n",
    "    return res\n",
    "\n",
    "def parseOriginStand(data):\n",
    "    if data != data:\n",
    "        res = 0\n",
    "    else:\n",
    "        res = 1\n",
    "    return res"
   ]
  },
  {
   "cell_type": "code",
   "execution_count": 16,
   "id": "4aa2096d",
   "metadata": {},
   "outputs": [],
   "source": [
    "def getFeatureVectors(dataframe):\n",
    "    one_hot_hours = dataframe[\"HR\"].apply(transform24)\n",
    "    one_hot_month = dataframe[\"MON\"].apply(transform12)\n",
    "    call_type = dataframe[\"CALL_TYPE\"].apply(transformCallType)\n",
    "#     one_hot_min = dataframe[\"MIN\"].apply(transform60)\n",
    "    one_hot_dow = dataframe[\"WK\"].apply(transform12)\n",
    "    one_hot_day = dataframe[\"DAY\"].apply(transform31)\n",
    "    o_call = dataframe[\"ORIGIN_CALL\"].apply(parseOriginStand)\n",
    "    o_stand = dataframe[\"ORIGIN_STAND\"].apply(parseOriginStand)\n",
    "    \n",
    "    hours = torch.tensor(one_hot_hours, dtype=torch.float32)\n",
    "    month = torch.tensor(one_hot_month, dtype=torch.float32)\n",
    "    calls = torch.tensor(call_type, dtype=torch.float32)\n",
    "#     minutes = torch.tensor(one_hot_min, dtype=torch.float32)\n",
    "    dayofweek = torch.tensor(one_hot_dow, dtype = torch.float32)\n",
    "    day = torch.tensor(one_hot_day, dtype = torch.float32)\n",
    "    o_call = torch.tensor(o_call, dtype = torch.float32).reshape(-1,1)\n",
    "    o_stand = torch.tensor(o_stand, dtype = torch.float32).reshape(-1,1)\n",
    "    \n",
    "    fv = torch.cat((hours, month), dim=1)\n",
    "    fv = torch.cat((fv, dayofweek), dim=1)\n",
    "    fv = torch.cat((fv, day), dim=1)\n",
    "    fv = torch.cat((fv, calls), dim=1)\n",
    "    fv = torch.cat((fv, o_call), dim=1)\n",
    "    fv = torch.cat((fv, o_stand), dim=1)\n",
    "    return fv"
   ]
  },
  {
   "cell_type": "code",
   "execution_count": 17,
   "id": "b192e117",
   "metadata": {},
   "outputs": [],
   "source": [
    "raw_X = getFeatureVectors(df_trimmed)"
   ]
  },
  {
   "cell_type": "code",
   "execution_count": 18,
   "id": "4c581c38",
   "metadata": {},
   "outputs": [],
   "source": [
    "#the y values will be the actual trip times\n",
    "raw_y = torch.tensor(df_trimmed[\"LEN\"].values, dtype=torch.float32)"
   ]
  },
  {
   "cell_type": "code",
   "execution_count": 19,
   "id": "499ed2dd",
   "metadata": {},
   "outputs": [
    {
     "name": "stdout",
     "output_type": "stream",
     "text": [
      "raw_X.shape=torch.Size([1631042, 84]) raw_X.size()=torch.Size([1631042, 84])\n",
      "raw_y.shape=torch.Size([1631042]) raw_y.size()=torch.Size([1631042])\n"
     ]
    }
   ],
   "source": [
    "print(f\"{raw_X.shape=} {raw_X.size()=}\") \n",
    "print(f\"{raw_y.shape=} {raw_y.size()=}\") "
   ]
  },
  {
   "cell_type": "code",
   "execution_count": 30,
   "id": "972ccd9d",
   "metadata": {},
   "outputs": [],
   "source": [
    "#randomly populate the training and testing set with 1.5 million in the training and the rest in the testing\n",
    "def sampleData(raw_X, raw_Y, length, numSample):\n",
    "    perm = torch.randperm(length)\n",
    "    train_idx, test_idx = perm[:int(numSample * 0.8)], perm[int(numSample * 0.8):numSample]\n",
    "    X_tr, Y_tr = raw_X[train_idx], raw_Y[train_idx]\n",
    "    X_te, Y_te = raw_X[test_idx], raw_Y[test_idx]\n",
    "    return X_tr, Y_tr, X_te, Y_te"
   ]
  },
  {
   "cell_type": "code",
   "execution_count": 31,
   "id": "a4336f6d",
   "metadata": {},
   "outputs": [],
   "source": [
    "X_tr, Y_tr, X_te, Y_te = sampleData(raw_X, raw_y, len(df_trimmed), len(df_trimmed))"
   ]
  },
  {
   "cell_type": "code",
   "execution_count": 32,
   "id": "e4b789d2",
   "metadata": {},
   "outputs": [
    {
     "name": "stdout",
     "output_type": "stream",
     "text": [
      "X_tr.shape=torch.Size([1304833, 84]) X_te.shape=torch.Size([326209, 84])\n",
      "Y_tr.shape=torch.Size([1304833]) Y_te.size()=torch.Size([326209])\n"
     ]
    }
   ],
   "source": [
    "print(f\"{X_tr.shape=} {X_te.shape=}\") \n",
    "print(f\"{Y_tr.shape=} {Y_te.size()=}\") "
   ]
  },
  {
   "cell_type": "code",
   "execution_count": 33,
   "id": "8e5b0089",
   "metadata": {},
   "outputs": [],
   "source": [
    "#do any reshapings that has to be done\n",
    "X_train, X_test = X_tr.reshape((-1, 84)), X_te.reshape((-1, 84))\n",
    "y_train, y_test = Y_tr.reshape((-1, 1)), Y_te.reshape((-1, 1))"
   ]
  },
  {
   "cell_type": "code",
   "execution_count": 34,
   "id": "8f88a91b",
   "metadata": {},
   "outputs": [
    {
     "name": "stdout",
     "output_type": "stream",
     "text": [
      "X_train.shape=torch.Size([1304833, 84]) X_test.shape=torch.Size([326209, 84])\n",
      "y_train.shape=torch.Size([1304833, 1]) y_test.size()=torch.Size([326209, 1])\n"
     ]
    }
   ],
   "source": [
    "print(f\"{X_train.shape=} {X_test.shape=}\") \n",
    "print(f\"{y_train.shape=} {y_test.size()=}\") "
   ]
  },
  {
   "cell_type": "markdown",
   "id": "aaa3b3c7",
   "metadata": {},
   "source": [
    "# Creating Model"
   ]
  },
  {
   "cell_type": "markdown",
   "id": "b55f7744",
   "metadata": {},
   "source": [
    "Define a Model that will be used"
   ]
  },
  {
   "cell_type": "code",
   "execution_count": 44,
   "id": "edcf19dc",
   "metadata": {},
   "outputs": [],
   "source": [
    "import torch.nn as nn\n",
    "import torch.nn.functional as F\n",
    "import torch.optim as optim\n",
    "\n",
    "class Net(nn.Module):\n",
    "    def __init__(self):\n",
    "        super().__init__()\n",
    "        self.fc1 = nn.Linear(84, 20)\n",
    "#         self.dropout = nn.Dropout(0.5)\n",
    "        self.fc2 = nn.Linear(20, 1)\n",
    "#         self.fc3 = nn.Linear(21, 1)\n",
    "#         self.fc4 = nn.Linear(10, 1)\n",
    "\n",
    "    def forward(self, x):\n",
    "#         x = self.fc1(x).reshape(1,43)\n",
    "# #         x = F.normalize(x).reshape(-1)\n",
    "#         print(x)\n",
    "        x = F.relu(self.fc1(x))\n",
    "#         x = F.relu(self.fc3(x))\n",
    "#         x = self.dropout(x)\n",
    "#         x = F.relu(self.fc1(x))\n",
    "        x = self.fc2(x)\n",
    "        return x\n",
    "\n",
    "\n",
    "model = Net().to(device)\n",
    "\n",
    "loss_fn = nn.MSELoss()\n",
    "\n",
    "lr = 0.001\n",
    "opt = optim.SGD(model.parameters(), lr=lr)"
   ]
  },
  {
   "cell_type": "code",
   "execution_count": 45,
   "id": "0636e2a6",
   "metadata": {},
   "outputs": [
    {
     "name": "stdout",
     "output_type": "stream",
     "text": [
      "Epoch: 1 \t Training Loss: 436.43558169 \t Training Loss: 389.48816574\n",
      "Epoch: 11 \t Training Loss: 383.51606344 \t Training Loss: 383.31549098\n",
      "Epoch: 21 \t Training Loss: 382.71500768 \t Training Loss: 381.58301030\n",
      "Epoch: 31 \t Training Loss: 382.34921730 \t Training Loss: 382.54460524\n",
      "Epoch: 41 \t Training Loss: 382.34738250 \t Training Loss: 381.34070642\n",
      "Epoch: 51 \t Training Loss: 382.30406826 \t Training Loss: 381.49981569\n",
      "Epoch: 61 \t Training Loss: 382.22880659 \t Training Loss: 381.33759240\n",
      "Epoch: 71 \t Training Loss: 382.03217355 \t Training Loss: 381.17636584\n",
      "Epoch: 81 \t Training Loss: 382.01242369 \t Training Loss: 382.47346722\n",
      "Epoch: 91 \t Training Loss: 381.99425747 \t Training Loss: 381.26014331\n"
     ]
    }
   ],
   "source": [
    "train_err = []\n",
    "test_err = []\n",
    "parameters = []\n",
    "epoch = 100\n",
    "batch_size = 512\n",
    "for i_epoch in range(epoch):\n",
    "    permutation = torch.randperm(X_train.size()[0])\n",
    "    running_loss = 0\n",
    "    n = 0\n",
    "    for i in range(0,X_train.size()[0], batch_size):\n",
    "        indices = permutation[i:i+batch_size]\n",
    "        batch_x, batch_y = X_train[indices].to(device), y_train[indices].to(device)\n",
    "        outputs = model(batch_x)\n",
    "        loss = loss_fn(outputs,batch_y)\n",
    "        running_loss += loss.item()\n",
    "        n+=1\n",
    "        opt.zero_grad() \n",
    "        loss.backward()\n",
    "        opt.step()\n",
    "    \n",
    "    loss_rate = math.sqrt(running_loss / n)\n",
    "    train_err.append(loss_rate)\n",
    "    model.eval()\n",
    "    with torch.no_grad():\n",
    "        test_loss = math.sqrt(loss_fn(model(X_test.to(device)), y_test.to(device)).item())\n",
    "        test_err.append(test_loss)\n",
    "    if (i_epoch % 10 == 0):\n",
    "        print(\"Epoch: {0} \\t Training Loss: {1:.8f} \\t Training Loss: {2:.8f}\".format(i_epoch+1, loss_rate, test_loss))"
   ]
  },
  {
   "cell_type": "code",
   "execution_count": null,
   "id": "a9686b8c",
   "metadata": {},
   "outputs": [],
   "source": [
    "# print(train_err[epoch - 1 ])\n",
    "# print(test_err[epoch - 1])\n",
    "\n",
    "def visualize_graphs(train_err, test_err, title=\"\"):\n",
    "  plt.figure(figsize=(12,9))\n",
    "  plt.axhline(color=\"red\", lw=1)\n",
    "  plt.axvline(color=\"red\", lw=1)\n",
    "  if title:\n",
    "    plt.title(title, fontsize=24)\n",
    "  plt.xlabel(\"Iterations\", fontsize=18)\n",
    "  plt.ylabel(\"Loss\", fontsize=18)\n",
    "  \n",
    "  plt.plot(train_err, label=\"train\")\n",
    "  plt.plot(test_err, label=\"test\")\n",
    "  \n",
    "  plt.ylim(100)\n",
    "  \n",
    "  plt.legend(loc=\"upper right\")\n",
    "  \n",
    "  \n",
    "visualize_graphs(train_err, test_err, \"Loss plots\")"
   ]
  },
  {
   "cell_type": "markdown",
   "id": "6083d669",
   "metadata": {},
   "source": [
    "# Create Prediction File"
   ]
  },
  {
   "cell_type": "markdown",
   "id": "4474961a",
   "metadata": {},
   "source": [
    "After the model has been trained, we can then run it on the public test cases. The public test cases are given in the test_public.csv file. The same transformation we applied to the training dataset has to be done to the test_public.csv file in order to run the model on it."
   ]
  },
  {
   "cell_type": "code",
   "execution_count": null,
   "id": "be01cec4",
   "metadata": {},
   "outputs": [],
   "source": [
    "predict = pd.read_csv(\"test_public.csv\")"
   ]
  },
  {
   "cell_type": "code",
   "execution_count": null,
   "id": "5064b1e9",
   "metadata": {},
   "outputs": [],
   "source": [
    "predict[[\"YR\", \"MON\", \"DAY\", \"HR\", \"WK\", \"MIN\"]] = predict[[\"TIMESTAMP\"]].apply(parse_time, axis=1, result_type=\"expand\")\n",
    "predict.head()"
   ]
  },
  {
   "cell_type": "code",
   "execution_count": null,
   "id": "9aeb532c",
   "metadata": {},
   "outputs": [],
   "source": [
    "predict.head(10)"
   ]
  },
  {
   "cell_type": "code",
   "execution_count": null,
   "id": "e7c4ce1a",
   "metadata": {},
   "outputs": [],
   "source": [
    "predict_x = getFeatureVectors(predict)\n",
    "\n",
    "print(predict_x[0])"
   ]
  },
  {
   "cell_type": "code",
   "execution_count": null,
   "id": "afda8b60",
   "metadata": {},
   "outputs": [],
   "source": [
    "model.eval()\n",
    "with torch.no_grad():\n",
    "    o = model(predict_x)"
   ]
  },
  {
   "cell_type": "markdown",
   "id": "45385d00",
   "metadata": {},
   "source": [
    "After getting the output from the model, there should be 320 datapoints. We can open the sampleSubmission.csv and then add a new column for the TRAVEL_TIME and put in our predicted travel time. The csv then can be saved."
   ]
  },
  {
   "cell_type": "code",
   "execution_count": null,
   "id": "91fc3c52",
   "metadata": {},
   "outputs": [],
   "source": [
    "o"
   ]
  },
  {
   "cell_type": "code",
   "execution_count": null,
   "id": "f664a135",
   "metadata": {},
   "outputs": [],
   "source": [
    "filePath = \"./submissions/timestamp_pred_5.csv\"\n",
    "\n",
    "df_sample = pd.read_csv(\"sampleSubmission.csv\")\n",
    "\n",
    "o = o.reshape(-1)\n",
    "out = o.numpy()\n",
    "for i in range(320):\n",
    "    df_sample.at[i, \"TRAVEL_TIME\"] = out[i]\n",
    "\n",
    "os.makedirs('./submissions/', exist_ok=True)\n",
    "df_sample.to_csv(filePath, index=None, mode=\"+x\")"
   ]
  },
  {
   "cell_type": "markdown",
   "id": "456061e0",
   "metadata": {},
   "source": [
    "# Saving Models"
   ]
  },
  {
   "cell_type": "code",
   "execution_count": null,
   "id": "d7a7571b",
   "metadata": {},
   "outputs": [],
   "source": [
    "os.makedirs('./saved_models/', exist_ok=True)\n",
    "torch.save(model.state_dict(), './saved_models/163236.pth')"
   ]
  },
  {
   "cell_type": "markdown",
   "id": "23cbf02c",
   "metadata": {},
   "source": [
    "After saving a model, you can load it back again like this. "
   ]
  },
  {
   "cell_type": "code",
   "execution_count": null,
   "id": "db4773d1",
   "metadata": {},
   "outputs": [],
   "source": [
    "new_model = Net()"
   ]
  },
  {
   "cell_type": "code",
   "execution_count": null,
   "id": "fd6d10da",
   "metadata": {},
   "outputs": [],
   "source": [
    "# make sure the model is has the same \"structure\" so that the \"weights\" can be filled in.\n",
    "new_model.load_state_dict(torch.load('./saves/model_weights1.pth'))"
   ]
  }
 ],
 "metadata": {
  "kernelspec": {
   "display_name": "Python 3 (clean)",
   "language": "python",
   "name": "python3_clean"
  },
  "language_info": {
   "codemirror_mode": {
    "name": "ipython",
    "version": 3
   },
   "file_extension": ".py",
   "mimetype": "text/x-python",
   "name": "python",
   "nbconvert_exporter": "python",
   "pygments_lexer": "ipython3",
   "version": "3.9.5"
  }
 },
 "nbformat": 4,
 "nbformat_minor": 5
}
